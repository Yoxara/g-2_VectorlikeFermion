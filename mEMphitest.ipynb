{
 "cells": [
  {
   "cell_type": "raw",
   "metadata": {},
   "source": [
    "import sympy as sp\n",
    "M_phi_pu, m_mu, delta_up, x, mE, gs1, gp1 = sp.symbols('M_phi_pu m_mu delta_up x mE gs1 gp1', real=True, positive=True)\n",
    "expr = \n",
    "#solutions = sp.solve(expr, M_phi_pu)\n",
    "solutions = [sp.simplify(sol) for sol in sp.solve(expr, M_phi_pu)]\n",
    "for sol in solutions:\n",
    "    #display_latex = sp.latex(sol)\n",
    "    #print(display_latex)\n",
    "    print(sol)\n"
   ]
  },
  {
   "cell_type": "raw",
   "metadata": {},
   "source": [
    "if len(solutions) >= 2:\n",
    "    solution1 = solutions[0]\n",
    "    solution2 = solutions[1]\n",
    "\n",
    "print(solution2)\n",
    "solution2"
   ]
  },
  {
   "cell_type": "markdown",
   "metadata": {},
   "source": [
    "$$\n",
    "M_{\\phi}=\\sqrt{\\frac{-\\text{Pm}-\\text{Pp}+8 \\pi ^2 \\text{$\\Delta $a} x^2+8 \\pi ^2 \\text{$\\Delta $a} x \\epsilon ^2-8 \\pi ^2 \\text{$\\Delta $a} x}{x-1}}\n",
    "$$\n",
    "\n",
    "$$Pp = \\text{gs1}^2 x^2 (-x+\\epsilon +1)$$\n",
    "\n",
    "$$Pm = \\text{gp1}^2 x^2 (-x-\\epsilon +1)$$\n",
    "\n",
    "$$\\epsilon = \\frac{\\text{mE}}{\\text{m$\\mu $}}$$\n"
   ]
  },
  {
   "cell_type": "code",
   "execution_count": 3,
   "metadata": {},
   "outputs": [],
   "source": [
    "import csv\n",
    "import numpy as np\n",
    "from scipy.integrate import quad\n",
    "from numpy import *\n",
    "from scipy import *\n",
    "\n",
    "import matplotlib as mpl\n",
    "import matplotlib.pyplot as plt\n",
    "linestyle_str = [\n",
    "    ('solid', 'solid'),\n",
    "    ('dotted', '.'),    \n",
    "    ('dashed', '--'),  \n",
    "    ('dashdot', '-.')] \n",
    "from matplotlib.pyplot import *\n",
    "from  matplotlib import *\n",
    "import mplhep as hep \n",
    "hep.style.use(hep.style.ATLAS)\n",
    "plt.rc('text', usetex=True)\n",
    "plt.rc('font', family='Times New Roman')\n",
    "%matplotlib inline\n",
    "mpl.rcParams['figure.figsize'] = (9,6)\n",
    "import matplotlib.patheffects as pe"
   ]
  },
  {
   "cell_type": "code",
   "execution_count": 8,
   "metadata": {},
   "outputs": [
    {
     "name": "stderr",
     "output_type": "stream",
     "text": [
      "/tmp/ipykernel_14649/2404633147.py:14: RuntimeWarning: invalid value encountered in sqrt\n",
      "  numerator = np.sqrt(2) * np.sqrt(x) * np.sqrt(term1 + term2 + term3)\n",
      "/tmp/ipykernel_14649/2404633147.py:34: IntegrationWarning: The maximum number of subdivisions (50) has been achieved.\n",
      "  If increasing the limit yields no improvement it is advised to analyze \n",
      "  the integrand in order to determine the difficulties.  If the position of a \n",
      "  local difficulty can be determined (singularity, discontinuity) one will \n",
      "  probably gain from splitting up the interval and calling the integrator \n",
      "  on the subranges.  Perhaps a special-purpose integrator should be used.\n",
      "  integral, _ = quad(integrand, 0, 1, args=(mE, m_mu, delta_up, gp1, gs1))\n",
      "/tmp/ipykernel_14649/2404633147.py:17: RuntimeWarning: divide by zero encountered in scalar divide\n",
      "  return numerator / denominator\n",
      "/tmp/ipykernel_14649/2404633147.py:34: IntegrationWarning: Extremely bad integrand behavior occurs at some points of the\n",
      "  integration interval.\n",
      "  integral, _ = quad(integrand, 0, 1, args=(mE, m_mu, delta_up, gp1, gs1))\n"
     ]
    }
   ],
   "source": [
    "import csv\n",
    "import numpy as np\n",
    "from scipy.integrate import quad\n",
    "\n",
    "def integrand(x, mE, m_mu, delta_up, gp1, gs1):\n",
    "    # Pre-calculando términos comunes\n",
    "    factor1 = 8 * np.pi**2 * delta_up\n",
    "    factor2 = m_mu**2 * x\n",
    "    \n",
    "    term1 = factor1 * (mE**2 + factor2 - m_mu**2)\n",
    "    term2 = gp1**2 * (mE * m_mu * x + factor2 - m_mu**2)\n",
    "    term3 = gs1**2 * (mE * m_mu * x + factor2 - m_mu**2)\n",
    "    \n",
    "    numerator = np.sqrt(2) * np.sqrt(x) * np.sqrt(term1 + term2 + term3)\n",
    "    denominator = 4 * np.pi * np.sqrt(delta_up) * (x - 1)\n",
    "    \n",
    "    return numerator / denominator\n",
    "\n",
    "def save_data_to_file(filename, data):\n",
    "    with open(filename, 'w') as f:\n",
    "        writer = csv.writer(f, delimiter='\\t')\n",
    "        for row in data:\n",
    "            writer.writerow(row)\n",
    "\n",
    "def main():\n",
    "    gs1 = 2\n",
    "    gp1 = 0\n",
    "    delta_up = (250 + 48) * 10**-11\n",
    "    m_mu = 0.105\n",
    "    data_up = []\n",
    "\n",
    "    for i in range(2000):\n",
    "        mE = i + 10\n",
    "        integral, _ = quad(integrand, 0, 1, args=(mE, m_mu, delta_up, gp1, gs1))\n",
    "        M_phi_pu = np.sqrt(integral)\n",
    "        data_up.append([mE, M_phi_pu])\n",
    "\n",
    "    save_data_to_file(\"/home/yoxara/smodels/PostDoc_UFABC/331Muong-2/data_up.tsv\", data_up)\n",
    "\n",
    "if __name__ == \"__main__\":\n",
    "    main()\n",
    "\n",
    "\n"
   ]
  },
  {
   "cell_type": "code",
   "execution_count": null,
   "metadata": {},
   "outputs": [],
   "source": [
    "delta_down = (250 - 48) * 10**-11\n",
    "data_down = []\n",
    "def integrand2(x, mE, M_phi_pu):\n",
    "    term1 = gs1**2 * x**2 * (1 - x + mE/m_mu)\n",
    "    term2 = gp1**2 * x**2 * (1 - x - mE/m_mu)\n",
    "    denominator = ((m_mu/M_phi_pu)**2 * x * (mE/m_mu)**2) + (1 - x) * (1 - (m_mu/M_phi_pu)**2 * x)\n",
    "    return (term1 + term2) / denominator\n",
    "for i in range(2000):\n",
    "    mE = i + 10\n",
    "    prefactor = (m_mu**2 / (delta_down * 8 * np.pi**2))\n",
    "    integral, _ = quad(integrand2, 0, 1, args=(mE, m_mu))\n",
    "    M_phi_pu = np.sqrt(prefactor * integral)\n",
    "    data_down.append([mE, M_phi_pu])\n",
    "with open(\"/home/yoxara/smodels/PostDoc_UFABC/331Muong-2/data_down.tsv\", 'w') as f:\n",
    "    writer = csv.writer(f, delimiter='\\t')\n",
    "    for row in data_down:\n",
    "        writer.writerow(row)"
   ]
  },
  {
   "cell_type": "code",
   "execution_count": null,
   "metadata": {},
   "outputs": [
    {
     "name": "stderr",
     "output_type": "stream",
     "text": [
      "No artists with labels found to put in legend.  Note that artists whose label start with an underscore are ignored when legend() is called with no argument.\n"
     ]
    },
    {
     "data": {
      "image/png": "[encoded data removed]",
      "text/plain": [
       "<Figure size 648x432 with 1 Axes>"
      ]
     },
     "metadata": {
      "needs_background": "light"
     },
     "output_type": "display_data"
    }
   ],
   "source": [
    "mE_values_down = [point[0] for point in data_down]\n",
    "M_phi_pu_values_down = [point[1] for point in data_down]\n",
    "mE_values_up = [point[0] for point in data_up]\n",
    "M_phi_pu_values_up = [point[1] for point in data_up]\n",
    "plt.plot(mE_values_up, M_phi_pu_values_up, color='teal')\n",
    "plt.plot(mE_values_down, M_phi_pu_values_down, color='teal')\n",
    "plt.fill_between(mE_values_up, M_phi_pu_values_up, M_phi_pu_values_down, color='teal', alpha=0.5)\n",
    "plt.xlabel(r'$M_{E}$')\n",
    "plt.ylabel(r'$M_{\\phi}$')\n",
    "#plt.yscale('log')\n",
    "#plt.xscale('log')\n",
    "plt.grid(True)\n",
    "plt.legend() \n",
    "plt.show()\n"
   ]
  },
  {
   "cell_type": "code",
   "execution_count": 12,
   "metadata": {},
   "outputs": [
    {
     "ename": "ZeroDivisionError",
     "evalue": "float division by zero",
     "output_type": "error",
     "traceback": [
      "\u001b[0;31m---------------------------------------------------------------------------\u001b[0m",
      "\u001b[0;31mZeroDivisionError\u001b[0m                         Traceback (most recent call last)",
      "\u001b[0;32m/tmp/ipykernel_14649/2924637328.py\u001b[0m in \u001b[0;36m<module>\u001b[0;34m\u001b[0m\n\u001b[1;32m     20\u001b[0m     \u001b[0mmE\u001b[0m \u001b[0;34m=\u001b[0m \u001b[0mi\u001b[0m \u001b[0;34m+\u001b[0m \u001b[0;36m10\u001b[0m\u001b[0;34m\u001b[0m\u001b[0;34m\u001b[0m\u001b[0m\n\u001b[1;32m     21\u001b[0m     \u001b[0mepsilon\u001b[0m \u001b[0;34m=\u001b[0m \u001b[0mmE\u001b[0m \u001b[0;34m/\u001b[0m \u001b[0mm_mu\u001b[0m\u001b[0;34m\u001b[0m\u001b[0;34m\u001b[0m\u001b[0m\n\u001b[0;32m---> 22\u001b[0;31m     \u001b[0mintegral\u001b[0m\u001b[0;34m,\u001b[0m \u001b[0m_\u001b[0m \u001b[0;34m=\u001b[0m \u001b[0mquad\u001b[0m\u001b[0;34m(\u001b[0m\u001b[0mintegrand\u001b[0m\u001b[0;34m,\u001b[0m \u001b[0;36m0\u001b[0m\u001b[0;34m,\u001b[0m \u001b[0;36m1\u001b[0m\u001b[0;34m,\u001b[0m \u001b[0margs\u001b[0m\u001b[0;34m=\u001b[0m\u001b[0;34m(\u001b[0m\u001b[0mepsilon\u001b[0m\u001b[0;34m,\u001b[0m\u001b[0;34m)\u001b[0m\u001b[0;34m)\u001b[0m\u001b[0;34m\u001b[0m\u001b[0;34m\u001b[0m\u001b[0m\n\u001b[0m\u001b[1;32m     23\u001b[0m     \u001b[0mM_phi2\u001b[0m \u001b[0;34m=\u001b[0m \u001b[0mm_mu\u001b[0m\u001b[0;34m**\u001b[0m\u001b[0;36m2\u001b[0m \u001b[0;34m/\u001b[0m \u001b[0;34m(\u001b[0m\u001b[0;36m8\u001b[0m \u001b[0;34m*\u001b[0m \u001b[0mnp\u001b[0m\u001b[0;34m.\u001b[0m\u001b[0mpi\u001b[0m\u001b[0;34m**\u001b[0m\u001b[0;36m2\u001b[0m \u001b[0;34m*\u001b[0m \u001b[0mdelta_a\u001b[0m\u001b[0;34m)\u001b[0m \u001b[0;34m*\u001b[0m \u001b[0mintegral\u001b[0m\u001b[0;34m\u001b[0m\u001b[0;34m\u001b[0m\u001b[0m\n\u001b[1;32m     24\u001b[0m     \u001b[0mM_phi\u001b[0m \u001b[0;34m=\u001b[0m \u001b[0mnp\u001b[0m\u001b[0;34m.\u001b[0m\u001b[0msqrt\u001b[0m\u001b[0;34m(\u001b[0m\u001b[0mM_phi2\u001b[0m\u001b[0;34m)\u001b[0m\u001b[0;34m\u001b[0m\u001b[0;34m\u001b[0m\u001b[0m\n",
      "\u001b[0;32m/usr/local/lib/python3.10/dist-packages/scipy/integrate/_quadpack_py.py\u001b[0m in \u001b[0;36mquad\u001b[0;34m(func, a, b, args, full_output, epsabs, epsrel, limit, points, weight, wvar, wopts, maxp1, limlst, complex_func)\u001b[0m\n\u001b[1;32m    463\u001b[0m \u001b[0;34m\u001b[0m\u001b[0m\n\u001b[1;32m    464\u001b[0m     \u001b[0;32mif\u001b[0m \u001b[0mweight\u001b[0m \u001b[0;32mis\u001b[0m \u001b[0;32mNone\u001b[0m\u001b[0;34m:\u001b[0m\u001b[0;34m\u001b[0m\u001b[0;34m\u001b[0m\u001b[0m\n\u001b[0;32m--> 465\u001b[0;31m         retval = _quad(func, a, b, args, full_output, epsabs, epsrel, limit,\n\u001b[0m\u001b[1;32m    466\u001b[0m                        points)\n\u001b[1;32m    467\u001b[0m     \u001b[0;32melse\u001b[0m\u001b[0;34m:\u001b[0m\u001b[0;34m\u001b[0m\u001b[0;34m\u001b[0m\u001b[0m\n",
      "\u001b[0;32m/usr/local/lib/python3.10/dist-packages/scipy/integrate/_quadpack_py.py\u001b[0m in \u001b[0;36m_quad\u001b[0;34m(func, a, b, args, full_output, epsabs, epsrel, limit, points)\u001b[0m\n\u001b[1;32m    575\u001b[0m     \u001b[0;32mif\u001b[0m \u001b[0mpoints\u001b[0m \u001b[0;32mis\u001b[0m \u001b[0;32mNone\u001b[0m\u001b[0;34m:\u001b[0m\u001b[0;34m\u001b[0m\u001b[0;34m\u001b[0m\u001b[0m\n\u001b[1;32m    576\u001b[0m         \u001b[0;32mif\u001b[0m \u001b[0minfbounds\u001b[0m \u001b[0;34m==\u001b[0m \u001b[0;36m0\u001b[0m\u001b[0;34m:\u001b[0m\u001b[0;34m\u001b[0m\u001b[0;34m\u001b[0m\u001b[0m\n\u001b[0;32m--> 577\u001b[0;31m             \u001b[0;32mreturn\u001b[0m \u001b[0m_quadpack\u001b[0m\u001b[0;34m.\u001b[0m\u001b[0m_qagse\u001b[0m\u001b[0;34m(\u001b[0m\u001b[0mfunc\u001b[0m\u001b[0;34m,\u001b[0m\u001b[0ma\u001b[0m\u001b[0;34m,\u001b[0m\u001b[0mb\u001b[0m\u001b[0;34m,\u001b[0m\u001b[0margs\u001b[0m\u001b[0;34m,\u001b[0m\u001b[0mfull_output\u001b[0m\u001b[0;34m,\u001b[0m\u001b[0mepsabs\u001b[0m\u001b[0;34m,\u001b[0m\u001b[0mepsrel\u001b[0m\u001b[0;34m,\u001b[0m\u001b[0mlimit\u001b[0m\u001b[0;34m)\u001b[0m\u001b[0;34m\u001b[0m\u001b[0;34m\u001b[0m\u001b[0m\n\u001b[0m\u001b[1;32m    578\u001b[0m         \u001b[0;32melse\u001b[0m\u001b[0;34m:\u001b[0m\u001b[0;34m\u001b[0m\u001b[0;34m\u001b[0m\u001b[0m\n\u001b[1;32m    579\u001b[0m             \u001b[0;32mreturn\u001b[0m \u001b[0m_quadpack\u001b[0m\u001b[0;34m.\u001b[0m\u001b[0m_qagie\u001b[0m\u001b[0;34m(\u001b[0m\u001b[0mfunc\u001b[0m\u001b[0;34m,\u001b[0m\u001b[0mbound\u001b[0m\u001b[0;34m,\u001b[0m\u001b[0minfbounds\u001b[0m\u001b[0;34m,\u001b[0m\u001b[0margs\u001b[0m\u001b[0;34m,\u001b[0m\u001b[0mfull_output\u001b[0m\u001b[0;34m,\u001b[0m\u001b[0mepsabs\u001b[0m\u001b[0;34m,\u001b[0m\u001b[0mepsrel\u001b[0m\u001b[0;34m,\u001b[0m\u001b[0mlimit\u001b[0m\u001b[0;34m)\u001b[0m\u001b[0;34m\u001b[0m\u001b[0;34m\u001b[0m\u001b[0m\n",
      "\u001b[0;32m/tmp/ipykernel_14649/2924637328.py\u001b[0m in \u001b[0;36mintegrand\u001b[0;34m(x, epsilon)\u001b[0m\n\u001b[1;32m     13\u001b[0m     \u001b[0mnumerator\u001b[0m \u001b[0;34m=\u001b[0m \u001b[0mPm\u001b[0m \u001b[0;34m+\u001b[0m \u001b[0mPp\u001b[0m \u001b[0;34m-\u001b[0m \u001b[0;36m8\u001b[0m \u001b[0;34m*\u001b[0m \u001b[0mnp\u001b[0m\u001b[0;34m.\u001b[0m\u001b[0mpi\u001b[0m\u001b[0;34m**\u001b[0m\u001b[0;36m2\u001b[0m \u001b[0;34m*\u001b[0m \u001b[0mx\u001b[0m \u001b[0;34m*\u001b[0m \u001b[0mdelta_a\u001b[0m \u001b[0;34m*\u001b[0m \u001b[0;34m(\u001b[0m\u001b[0;34m-\u001b[0m\u001b[0;36m1\u001b[0m \u001b[0;34m+\u001b[0m \u001b[0mx\u001b[0m \u001b[0;34m+\u001b[0m \u001b[0mepsilon\u001b[0m\u001b[0;34m**\u001b[0m\u001b[0;36m2\u001b[0m\u001b[0;34m)\u001b[0m\u001b[0;34m\u001b[0m\u001b[0;34m\u001b[0m\u001b[0m\n\u001b[1;32m     14\u001b[0m     \u001b[0mdenominator\u001b[0m \u001b[0;34m=\u001b[0m \u001b[0;34m-\u001b[0m\u001b[0;36m1\u001b[0m \u001b[0;34m+\u001b[0m \u001b[0mx\u001b[0m\u001b[0;34m\u001b[0m\u001b[0;34m\u001b[0m\u001b[0m\n\u001b[0;32m---> 15\u001b[0;31m     \u001b[0;32mreturn\u001b[0m \u001b[0mnumerator\u001b[0m \u001b[0;34m/\u001b[0m \u001b[0mdenominator\u001b[0m\u001b[0;34m\u001b[0m\u001b[0;34m\u001b[0m\u001b[0m\n\u001b[0m\u001b[1;32m     16\u001b[0m \u001b[0;34m\u001b[0m\u001b[0m\n\u001b[1;32m     17\u001b[0m \u001b[0mPointsup\u001b[0m \u001b[0;34m=\u001b[0m \u001b[0;34m[\u001b[0m\u001b[0;34m]\u001b[0m\u001b[0;34m\u001b[0m\u001b[0;34m\u001b[0m\u001b[0m\n",
      "\u001b[0;31mZeroDivisionError\u001b[0m: float division by zero"
     ]
    }
   ],
   "source": [
    "import numpy as np\n",
    "from scipy.integrate import quad\n",
    "import csv\n",
    "\n",
    "m_mu = 0.105  # Muon mass\n",
    "gs1 = 2\n",
    "gp1 = 0\n",
    "delta_a = (250 + 48) * 10**-11\n",
    "\n",
    "def integrand(x, epsilon):\n",
    "\n",
    "    numerator = Pm + Pp - 8 * np.pi**2 * x * delta_a * (-1 + x + epsilon**2)\n",
    "    denominator = -1 + x\n",
    "    return numerator / denominator\n",
    "\n",
    "Pointsup = []\n",
    "\n",
    "for i in range(1000):\n",
    "    mE = i + 10\n",
    "    epsilon = mE / m_mu\n",
    "    integral, _ = quad(integrand, 0, 1, args=(epsilon,))\n",
    "    M_phi2 = m_mu**2 / (8 * np.pi**2 * delta_a) * integral\n",
    "    M_phi = np.sqrt(M_phi2)\n",
    "    Pointsup.append([mE, M_phi])\n",
    "\n",
    "# Export data to a TSV file\n",
    "with open(\"/home/yoxara/smodels/PostDoc_UFABC/331Muong-2/Pointsup.tsv\", 'w') as f:\n",
    "    writer = csv.writer(f, delimiter='\\t')\n",
    "    for row in Pointsup:\n",
    "        writer.writerow(row)\n",
    "\n"
   ]
  },
  {
   "cell_type": "code",
   "execution_count": 15,
   "metadata": {},
   "outputs": [
    {
     "data": {
      "text/latex": [
       "$\\displaystyle \\frac{m_{\\mu}^{2} \\left(gp_{1}^{2} x^{2} \\left(- \\epsilon - x + 1\\right) + gs_{1}^{2} x^{2} \\left(\\epsilon - x + 1\\right)\\right)}{8 \\pi^{2} M_{\\phi p}^{2} \\left(\\left(1 - x\\right) \\left(1 - \\frac{m_{\\mu}^{2} x}{M_{\\phi p}^{2}}\\right) + \\frac{\\epsilon^{2} m_{\\mu}^{2} x}{M_{\\phi p}^{2}}\\right)}$"
      ],
      "text/plain": [
       "m_mu**2*(gp1**2*x**2*(-epsilon - x + 1) + gs1**2*x**2*(epsilon - x + 1))/(8*pi**2*M_phi_p**2*((1 - x)*(1 - m_mu**2*x/M_phi_p**2) + epsilon**2*m_mu**2*x/M_phi_p**2))"
      ]
     },
     "execution_count": 15,
     "metadata": {},
     "output_type": "execute_result"
    }
   ],
   "source": [
    "import sympy as sp\n",
    "M_phi, m_mu, delta_a, x, epsilon,mE, gs1, gp1 = sp.symbols('M_phi_p m_mu delta_a x epsilon mE gs1 gp1', real=True, positive=True)\n",
    "Pp = (gs1**2 * x**2 * (1 - x + epsilon))\n",
    "Pm = (gp1**2 * x**2 * (1 - x - epsilon))\n",
    "Nu = Pp +Pm\n",
    "Nu\n",
    "Lambda = m_mu/M_phi\n",
    "D = (1-x)*(1- x *Lambda**2) + (x*epsilon**2 * Lambda**2)\n",
    "D\n",
    "Integrand = (1/D) * Nu\n",
    "Integrand\n",
    "fac = Lambda**2 / (8 * sp.pi**2)\n",
    "amu = fac*Integrand\n",
    "\n",
    "\n",
    "Teniendo en cuenta que amu = fac*Integrand y que Integrand es una integral de x, de 0 a 1, y que amu toma valores entre (250 + 48) * 10**-11 y (250 - 48) * 10**-11, entonces: dame valores aleatorios para plotar M_phi_p vs m_E, si m_mu = 0.105, gs1 = 2\n",
    "gp1 = 2, y epsilon = m_E/m_mu"
   ]
  }
 ],
 "metadata": {
  "kernelspec": {
   "display_name": "Python 3",
   "language": "python",
   "name": "python3"
  },
  "language_info": {
   "codemirror_mode": {
    "name": "ipython",
    "version": 3
   },
   "file_extension": ".py",
   "mimetype": "text/x-python",
   "name": "python",
   "nbconvert_exporter": "python",
   "pygments_lexer": "ipython3",
   "version": "3.10.12"
  },
  "orig_nbformat": 4
 },
 "nbformat": 4,
 "nbformat_minor": 2
}
