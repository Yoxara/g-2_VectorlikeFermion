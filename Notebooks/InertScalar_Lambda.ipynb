{
 "cells": [
  {
   "cell_type": "code",
   "execution_count": 7,
   "id": "87d573f0",
   "metadata": {},
   "outputs": [
    {
     "data": {
      "text/plain": [
       "(3.8e-10, 6.3e-10, 1.01e-09, 3.8e-10)"
      ]
     },
     "execution_count": 7,
     "metadata": {},
     "output_type": "execute_result"
    }
   ],
   "source": [
    "import csv\n",
    "import numpy as np\n",
    "from scipy.integrate import quad\n",
    "from numpy import *\n",
    "from scipy import *\n",
    "\n",
    "import mplhep as hep \n",
    "hep.style.use(hep.style.ATLAS)\n",
    "\n",
    "\n",
    "amuExp = 1165920715e-12 #116592089E-11 #\n",
    "amuThe = 116592033e-11 #116591810e-11\n",
    "amu = 38e-11 #amuExp-amuThe\n",
    "#ErramuExp = 22e-11\n",
    "#ErramuThe = 43e-11\n",
    "Eamu = 63e-11 #np.sqrt(ErramuExp**2 + ErramuThe**2)\n",
    "amu_up = amu+Eamu\n",
    "amu_central = amu\n",
    "amu, Eamu, amu_up, amu_central\n",
    "\n"
   ]
  },
  {
   "cell_type": "code",
   "execution_count": 8,
   "id": "a382f52c",
   "metadata": {},
   "outputs": [],
   "source": [
    "# Plotting defaults\n",
    "import matplotlib as mpl\n",
    "import matplotlib.pyplot as plt\n",
    "linestyle_str = [\n",
    "    ('solid', 'solid'), # Same as (0, ()) or '-'\n",
    "    ('dotted', '.'),    # Same as (0, (1, 1)) or '.'\n",
    "    ('dashed', '--'),   # Same as '--'\n",
    "    ('dashdot', '-.')]  # Same as '-.'\n",
    "from matplotlib.pyplot import *\n",
    "from  matplotlib import *\n",
    "import mplhep as hep \n",
    "hep.style.use(hep.style.ATLAS)\n",
    "plt.rc('text', usetex=True)\n",
    "plt.rc('font', family='Times New Roman')\n",
    "%matplotlib inline\n",
    "mpl.rcParams['figure.figsize'] = (9,6)\n",
    "import matplotlib.patheffects as pe\n",
    "# Global Parameters in GeV units\n",
    "m_mu = 0.105  # Muon mass\n",
    "# Experimental Bounds\n",
    "bound_current_eup = [(x, amu_up) for x in range(0, 100000)]\n",
    "bound_current_central = [(x, amu_central) for x in range(0, 100000)]\n",
    "sigma_current = [(x, Eamu) for x in range(1, 100000)]\n",
    "#sigma_projected = [(x, 34e-11) for x in range(1, 100000)]\n"
   ]
  },
  {
   "cell_type": "code",
   "execution_count": 9,
   "id": "e0ebeca8-6aa7-492f-b71c-42938e6dd5a6",
   "metadata": {},
   "outputs": [],
   "source": [
    "m_mu = 0.105  # masa del muón\n",
    "\n",
    "epsilon_1 = m_mu/m_mu \n",
    "\n",
    "def lambda1_func(m_mu, mphi):\n",
    "    return m_mu / mphi\n",
    "\n",
    "def integrand(x, epsilon_1, lambda1, sign=1):\n",
    "    return (x**2 * (1 + sign*epsilon_1 - x)) / ((1 - x) * (1 - lambda1**2 * x) + epsilon_1**2 * lambda1**2 * x)\n",
    "\n",
    "def compute_delta(mphi, m_mu, lambda22):\n",
    "    gs1 = lambda22 / 2\n",
    "    gp1 = gs1\n",
    "    lambda1_val = lambda1_func(m_mu, mphi)\n",
    "    integral_pos, _ = quad(integrand, 0, 1, args=(epsilon_1, lambda1_val, 1))\n",
    "    integral_neg, _ = quad(integrand, 0, 1, args=(epsilon_1, lambda1_val, -1))\n",
    "    term1 = (gs1**2 * m_mu**2) / (8 * np.pi**2 * mphi**2) * integral_pos\n",
    "    term2 = (gp1**2 * m_mu**2) / (8 * np.pi**2 * mphi**2) * integral_neg\n",
    "    return term1 + term2\n",
    "\n",
    "mphi_range = np.linspace(1, 10000, 2000)\n",
    "\n",
    "\n",
    "results = {}\n",
    "for lambda22 in [1.0, 0.1]:\n",
    "    DamPhi = [compute_delta(mphi, m_mu, lambda22) for mphi in mphi_range]\n",
    "    results[lambda22] = DamPhi\n"
   ]
  },
  {
   "cell_type": "code",
   "execution_count": 15,
   "id": "7a33bb3d",
   "metadata": {},
   "outputs": [
    {
     "data": {
      "image/png": "[encoded data removed]",
      "text/plain": [
       "<Figure size 800x600 with 1 Axes>"
      ]
     },
     "metadata": {},
     "output_type": "display_data"
    }
   ],
   "source": [
    "mpl.rcParams['figure.figsize'] = (8,6)\n",
    "\n",
    "pek2=[pe.Stroke(linewidth=1.9, foreground='k',alpha=0.5), pe.Normal()]\n",
    "pek1=[pe.Stroke(linewidth=1, foreground='limegreen',alpha=0.8), pe.Normal()]\n",
    "\n",
    "x = mphi_range  \n",
    "#BoundCurrenteup = np.full_like(x, amu_up)\n",
    "BoundCurrentdown = np.full_like(x, amu_central)\n",
    "\n",
    "#plt.plot(x, BoundCurrenteup,'limegreen',linestyle = '--',linewidth=2,markersize=0.0,zorder=0.5,path_effects=pek1,label=r'$\\Delta  a_{\\mu} = 103\\times 10^{-11}$')\n",
    "plt.plot(x, BoundCurrentdown,'limegreen',linestyle = 'solid',linewidth=2,markersize=0.0,zorder=0.5,path_effects=pek1, label=r'$\\Delta  a_{\\mu} = 38\\times 10^{-11}$')\n",
    "\n",
    "colors = {1.0: 'k', 0.1: 'b'}\n",
    "labels = {1.0: r'$\\lambda_{22}=1.0$', 0.1: r'$\\lambda_{22}=0.1$'}\n",
    "\n",
    "for lambda22 in [1.0, 0.1]:\n",
    "    plt.plot(mphi_range, results[lambda22], color=colors[lambda22], linewidth=2, label=labels[lambda22])\n",
    "\n",
    "\n",
    "plt.xlim([1e00,1e04])\n",
    "plt.ylim([10**(-10),10**(-9)])\n",
    "plt.yscale('log')\n",
    "plt.xscale('log')\n",
    "plt.xlabel(r'$m_{\\phi}$ [GeV]',loc=\"right\",fontsize=18)\n",
    "plt.ylabel(r'$\\Delta a_{\\mu} $',loc='top', fontsize=18) \n",
    "plt.legend(loc='upper right', shadow=False, fontsize=16,frameon=False,ncol=1)\n",
    "plt.title(r'Inert scalar',fontsize=18)\n",
    "plt.savefig('../Figures/InertScalarg2.pdf', format='pdf', bbox_inches='tight')\n",
    "#plt.draw()\n",
    "plt.show()\n",
    "\n"
   ]
  }
 ],
 "metadata": {
  "kernelspec": {
   "display_name": "Python 3",
   "language": "python",
   "name": "python3"
  },
  "language_info": {
   "codemirror_mode": {
    "name": "ipython",
    "version": 3
   },
   "file_extension": ".py",
   "mimetype": "text/x-python",
   "name": "python",
   "nbconvert_exporter": "python",
   "pygments_lexer": "ipython3",
   "version": "3.10.12"
  }
 },
 "nbformat": 4,
 "nbformat_minor": 5
}
